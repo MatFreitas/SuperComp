{
  "nbformat": 4,
  "nbformat_minor": 0,
  "metadata": {
    "colab": {
      "name": "Avaliação_Final(2).ipynb",
      "provenance": [],
      "collapsed_sections": []
    },
    "kernelspec": {
      "name": "python3",
      "display_name": "Python 3"
    },
    "language_info": {
      "name": "python"
    },
    "accelerator": "GPU",
    "gpuClass": "standard"
  },
  "cells": [
    {
      "cell_type": "markdown",
      "source": [
        "**SUPERCOMPUTAÇÃO - AVALIAÇÃO FINAL - 13/06/2022**"
      ],
      "metadata": {
        "id": "xu9BygxRr3gC"
      }
    },
    {
      "cell_type": "markdown",
      "source": [
        "**NOME:** Matheus Freitas Sant'Ana"
      ],
      "metadata": {
        "id": "0sz31r5ksA7r"
      }
    },
    {
      "cell_type": "markdown",
      "source": [
        "#### Imports necessários"
      ],
      "metadata": {
        "id": "T6s_FIzjPmNT"
      }
    },
    {
      "cell_type": "code",
      "source": [
        "import subprocess\n",
        "import time\n",
        "import os\n",
        "import sys\n",
        "import matplotlib.pyplot as plt\n",
        "import random\n",
        "import statistics\n",
        "import numpy as np\n",
        "import pandas as pd"
      ],
      "metadata": {
        "id": "35GFsQmRPlqh"
      },
      "execution_count": 423,
      "outputs": []
    },
    {
      "cell_type": "markdown",
      "source": [
        "**QUESTÃO 1.** Resolva a questão 1 no espaço de código abaixo... você pode duplicá-lo quantas vezes forem necessárias. "
      ],
      "metadata": {
        "id": "POU2CG8qXMgj"
      }
    },
    {
      "cell_type": "markdown",
      "source": [
        "#### Função para rodar o executável e calcular o tempo "
      ],
      "metadata": {
        "id": "3SPPpR1GPqBY"
      }
    },
    {
      "cell_type": "code",
      "source": [
        "def roda_com_entrada(executavel, arquivo_in):\n",
        "    with open(arquivo_in) as f:\n",
        "        start = time.perf_counter()\n",
        "        proc = subprocess.run([executavel], input=f.read(), text=True, capture_output=True)\n",
        "        end = time.perf_counter()\n",
        "\n",
        "        # print('Saída:', proc.stdout)\n",
        "        # print('Stderr:', proc.stderr)\n",
        "        # print('Tempo total(s):', end - start)\n",
        "        f.close()\n",
        "    return (proc.stdout, end - start)"
      ],
      "metadata": {
        "id": "Y230Roe0PpdJ"
      },
      "execution_count": 424,
      "outputs": []
    },
    {
      "cell_type": "markdown",
      "source": [
        "#### Função para gerar entradas"
      ],
      "metadata": {
        "id": "s8K7d2c7TiEJ"
      }
    },
    {
      "cell_type": "code",
      "source": [
        "def gerador_entrada(a, b):\n",
        "  f = open(f'./in.txt', 'w')\n",
        "  line = str(a) + ' ' + str(b)\n",
        "  f.writelines(line)\n",
        "  f.close()     "
      ],
      "metadata": {
        "id": "S8NtqVP2ThKC"
      },
      "execution_count": 425,
      "outputs": []
    },
    {
      "cell_type": "markdown",
      "source": [
        "#### Código e geração de executável"
      ],
      "metadata": {
        "id": "Ob-iMFLOTY-0"
      }
    },
    {
      "cell_type": "code",
      "source": [
        "%%writefile Questao1.cpp\n",
        "\n",
        "#include<iostream>\n",
        "#include<random>\n",
        "#include<omp.h>\n",
        "#include<math.h>\n",
        "using namespace std;\n",
        "\n",
        "#define MULT 100000\n",
        "\n",
        "int main() {\n",
        "    int N, num_threads;\n",
        "    double sum = 0.0;\n",
        "\n",
        "    cin >> N;\n",
        "    vector<int> vec(N, 0);\n",
        "\n",
        "    cin >> num_threads;\n",
        "\n",
        "    omp_set_num_threads(num_threads);\n",
        "    #pragma omp parallel for reduction(+:sum)\n",
        "    for(int i = 0; i < N; i++) {\n",
        "        #pragma omp critical\n",
        "        {\n",
        "            // Multiplicamos por MULT para obter números mais aleatórios\n",
        "            default_random_engine generator(i*MULT);\n",
        "            uniform_int_distribution<int> distribution(1, 199);\n",
        "            vec[i] = distribution(generator); \n",
        "            sum += vec[i];\n",
        "        }\n",
        "    }\n",
        "\n",
        "   for(int i = 0; i < N; i++) {\n",
        "    cout << vec[i] << endl;\n",
        "   }\n",
        "\n",
        "   double mean = sum/N;\n",
        "   double var = 0.0;\n",
        "\n",
        "   #pragma omp parallel for reduction(+:var)\n",
        "   for(int i = 0; i < N; i++) {\n",
        "    var += pow(vec[i] - mean, 2);\n",
        "   }\n",
        "\n",
        "   var /= N;\n",
        "\n",
        "   cout << \"Média: \" << mean << endl;\n",
        "   cout << \"Variância: \" << var << endl;\n",
        "   \n",
        "    return 0;\n",
        "}"
      ],
      "metadata": {
        "id": "89kuR766sduK",
        "colab": {
          "base_uri": "https://localhost:8080/"
        },
        "outputId": "b9f2a9bf-e8a6-4353-ee8d-4dfabf954cb2"
      },
      "execution_count": 426,
      "outputs": [
        {
          "output_type": "stream",
          "name": "stdout",
          "text": [
            "Writing Questao1.cpp\n"
          ]
        }
      ]
    },
    {
      "cell_type": "markdown",
      "source": [
        "Observações sobre o código: Foi necessário utilizar a região crítica, pois como ela faz com que a região rode em uma thread por vez, isso faz com que elas tenham diferentes seeds para gerar números aleatórios. Caso não houvesse essa região crítica, os números gerados aleatoriamente por cada thread correm o risco de serem os mesmos. Por isso, mesmo que essa ação é muito cara para o desempenho, ela se faz necessária para que se obtenha resultados mais confiáveis. Além disso, para obter seeds diferentes a cada iteração, foi utilizado o próprio iterador `i`  como semente, sendo que ele também é multiplicado por um valor alto, pois seeds próximos geram sequências que são inicialmente parecidas e depois diferem (e queremos \"maximizar\" a aleatoridade)."
      ],
      "metadata": {
        "id": "gzkldyWnZjq6"
      }
    },
    {
      "cell_type": "code",
      "source": [
        "!g++ -Wall -g -O3 -fopenmp Questao1.cpp -o Questao1"
      ],
      "metadata": {
        "id": "VgHRy01xTDza"
      },
      "execution_count": 427,
      "outputs": []
    },
    {
      "cell_type": "markdown",
      "source": [
        "#### Rodando executáveis com entradas e número de threads diferentes"
      ],
      "metadata": {
        "id": "2uTsklelao-c"
      }
    },
    {
      "cell_type": "code",
      "source": [
        "tamanhos_q1_2threads = []\n",
        "tempos_q1_2threads = []\n",
        "\n",
        "tamanhos_q1_3threads = []\n",
        "tempos_q1_3threads = []\n",
        "\n",
        "tamanhos_q1_5threads = []\n",
        "tempos_q1_5threads = []\n",
        "\n",
        "tamanhos_q1_7threads = []\n",
        "tempos_q1_7threads = []\n",
        "\n",
        "tamanhos_q1_9threads = []\n",
        "tempos_q1_9threads = []\n",
        "\n",
        "total = 50\n",
        "n = 5\n",
        "num_threads = 2\n",
        "\n",
        "for i in range(0, total):\n",
        "    gerador_entrada(n, num_threads)\n",
        "    tempos_q1_2threads.append(roda_com_entrada('./Questao1', './in.txt')[1])\n",
        "    tamanhos_q1_2threads.append(n)\n",
        "\n",
        "    gerador_entrada(n, num_threads + 1)\n",
        "    tempos_q1_3threads.append(roda_com_entrada('./Questao1', './in.txt')[1])\n",
        "    tamanhos_q1_3threads.append(n)\n",
        "\n",
        "    gerador_entrada(n, num_threads + 3)\n",
        "    tempos_q1_5threads.append(roda_com_entrada('./Questao1', './in.txt')[1])\n",
        "    tamanhos_q1_5threads.append(n)\n",
        "\n",
        "    gerador_entrada(n, num_threads + 5)\n",
        "    tempos_q1_7threads.append(roda_com_entrada('./Questao1', './in.txt')[1])\n",
        "    tamanhos_q1_7threads.append(n)\n",
        "\n",
        "    gerador_entrada(n, num_threads + 7)\n",
        "    tempos_q1_9threads.append(roda_com_entrada('./Questao1', './in.txt')[1])\n",
        "    tamanhos_q1_9threads.append(n)\n",
        "\n",
        "    n+= 500"
      ],
      "metadata": {
        "id": "j2xsDhaOTHfZ"
      },
      "execution_count": 428,
      "outputs": []
    },
    {
      "cell_type": "markdown",
      "source": [
        "#### Gerando gráfico de comparação de desempenho"
      ],
      "metadata": {
        "id": "nrMkj2JEauH7"
      }
    },
    {
      "cell_type": "code",
      "source": [
        "plt.figure(figsize=(7.5, 5))\n",
        "plt.plot(tamanhos_q1_2threads, tempos_q1_2threads, label='2 threads')\n",
        "plt.plot(tamanhos_q1_3threads, tempos_q1_3threads, label='3 threads')\n",
        "plt.plot(tamanhos_q1_5threads, tempos_q1_5threads, label='5 threads')\n",
        "plt.plot(tamanhos_q1_7threads, tempos_q1_7threads, label='7 threads')\n",
        "plt.plot(tamanhos_q1_9threads, tempos_q1_9threads, label='9 threads')\n",
        "plt.title('Desempenho com diferentes threads e tamanhos')\n",
        "plt.xlabel('n')\n",
        "plt.ylabel('Tempos (s)')\n",
        "plt.grid('on')\n",
        "plt.legend()\n",
        "plt.show()"
      ],
      "metadata": {
        "colab": {
          "base_uri": "https://localhost:8080/",
          "height": 350
        },
        "id": "xSTjh8NFV7ny",
        "outputId": "69bf7b41-4536-4300-c3c0-51b95d0ddf3a"
      },
      "execution_count": 429,
      "outputs": [
        {
          "output_type": "display_data",
          "data": {
            "text/plain": [
              "<Figure size 540x360 with 1 Axes>"
            ],
            "image/png": "[encoded data removed]"
          },
          "metadata": {
            "needs_background": "light"
          }
        }
      ]
    },
    {
      "cell_type": "markdown",
      "source": [
        "A partir do gráfico, fica evidente que o pior desempenho apresentado é quando o código roda com duas threads apenas, enquanto que os melhores desempenhos são dos códigos que utilizaram um número maior de threads. No entanto, conforme o número de threads aumenta, parece que essa diferença vai diminuindo, ou seja, atinge um ponto de \"saturação\" em que não adianta mais aumentar o número de threads pois não haverá ganho significativo de desempenho, e aumentar o número de threads é um processo caro. Vale ressaltar que se não existisse esse controle de número de threads, o código iria apresentar um desempenho inferior, já que muitas sequências pseudo-aleatórias iriam ser geradas e nenhuma delas seriam válidas (e com uma limitação temos `NUM_THREADS`  sequências válidas)."
      ],
      "metadata": {
        "id": "8KxB1zu9azRK"
      }
    },
    {
      "cell_type": "markdown",
      "source": [
        "**FEEDBACK QUESTÃO 1**: Não preencher este campo. Ele será preenchido pelo seu professor durante a correção. "
      ],
      "metadata": {
        "id": "1_17lWcdsiJ6"
      }
    },
    {
      "cell_type": "markdown",
      "source": [
        "**QUESTÃO 2.** Resolva a questão 2 no espaço de código abaixo... você pode duplicá-lo quantas vezes forem necessárias. "
      ],
      "metadata": {
        "id": "TNu1a_Vws0_w"
      }
    },
    {
      "cell_type": "markdown",
      "source": [
        "#### Função para gerar entradas arquivo input com 3 valores"
      ],
      "metadata": {
        "id": "4E6K0S8SwodG"
      }
    },
    {
      "cell_type": "code",
      "source": [
        "def gerador_entrada_q2(a, b, c):\n",
        "  f = open(f'./in.txt', 'w')\n",
        "  line = str(a) + ' ' + str(b) + ' ' + str(c)\n",
        "  f.writelines(line)\n",
        "  f.close()  "
      ],
      "metadata": {
        "id": "Tgd87uvgwoFl"
      },
      "execution_count": 430,
      "outputs": []
    },
    {
      "cell_type": "markdown",
      "source": [
        "#### 1. Versão Saxpy com OpenMP (8 threads por padrão)"
      ],
      "metadata": {
        "id": "pBlSINPQmM-E"
      }
    },
    {
      "cell_type": "markdown",
      "source": [
        "#### Código e geração de executável"
      ],
      "metadata": {
        "id": "F4C-i1R0n22N"
      }
    },
    {
      "cell_type": "code",
      "source": [
        "%%writefile Questao2.cpp\n",
        "\n",
        "#include<iostream>\n",
        "#include<random>\n",
        "#include<omp.h>\n",
        "#include <iomanip>\n",
        "#include<vector>\n",
        "#include<math.h>\n",
        "using namespace std;\n",
        "\n",
        "#define MULT 100000\n",
        "\n",
        "double saxpy(int a, int x, int y) {\n",
        "    return a * x + y;\n",
        "}\n",
        "\n",
        "int main() {\n",
        "    int n, m, num_threads;\n",
        "\n",
        "    cin >> n >> m >> num_threads;\n",
        "\n",
        "    vector<int> a(n);\n",
        "    vector<int> b(n);\n",
        "    vector<int> c(n);\n",
        "\n",
        "    // Multiplicamos por MULT para obter números mais aleatórios\n",
        "    default_random_engine generator(10*MULT);\n",
        "    uniform_int_distribution<int> distribution(1, 100000);\n",
        "\n",
        "    omp_set_num_threads(num_threads);\n",
        "    #pragma omp parallel shared(generator)\n",
        "    {\n",
        "        for(int i = 0; i < n; i++) {\n",
        "            #pragma omp master\n",
        "            {\n",
        "                #pragma omp task \n",
        "                {\n",
        "                    a[i] = distribution(generator);\n",
        "                }\n",
        "                #pragma omp task \n",
        "                {\n",
        "                    b[i] = distribution(generator);\n",
        "                }\n",
        "            }\n",
        "        }\n",
        "    }\n",
        "\n",
        "    \n",
        "    #pragma omp parallel for\n",
        "    for(int i = 0; i < n; i++) {\n",
        "        c[i] = saxpy(m, a[i], b[i]);\n",
        "    }\n",
        "\n",
        "    for (int i = 0; i < n; i++ )\n",
        "        cout << setw(6) << c[i] << \" = \" \n",
        "          << setw(2) << m\n",
        "          << \"*\" << setw(5) << a[i]\n",
        "          << \"+\" << setw(5) << b[i]\n",
        "          << endl;\n",
        "\n",
        "\n",
        "    return 0;\n",
        "}"
      ],
      "metadata": {
        "id": "XCq4RRChs8Qd",
        "colab": {
          "base_uri": "https://localhost:8080/"
        },
        "outputId": "af7178ba-df3f-490d-86ce-3e3e9dc29022"
      },
      "execution_count": 431,
      "outputs": [
        {
          "output_type": "stream",
          "name": "stdout",
          "text": [
            "Writing Questao2.cpp\n"
          ]
        }
      ]
    },
    {
      "cell_type": "markdown",
      "source": [
        "Observações sobre o código: a seção do código responsável por gerar os números aleatórios e preenchê-los nos vetores `a`  e `b`   pôde ser paralelizada por meio da criação de uma região paralelizada em que o gerador de números aleatórios é uma variável compartilhada entre as threads. Como a tarefa de gerar números aleatórios é heterogênea, ou seja, é desejado que números diferentes sejam gerados para `a`  e `b`  , foi necessário o uso de tasks para atingir esse objetivo. Caso não houvessem tasks, os dois vetores ficariam idênticos (e se a variável `generator`  não fosse compartilhada esse também seria o caso)."
      ],
      "metadata": {
        "id": "i2dg7j-Qmqb8"
      }
    },
    {
      "cell_type": "code",
      "source": [
        "!g++ -Wall -g -O3 -fopenmp Questao2.cpp -o Questao2"
      ],
      "metadata": {
        "id": "bY2xIygulpST"
      },
      "execution_count": 432,
      "outputs": []
    },
    {
      "cell_type": "markdown",
      "source": [
        "#### Exemplo de input e output"
      ],
      "metadata": {
        "id": "IdSlwPRsn9wV"
      }
    },
    {
      "cell_type": "code",
      "source": [
        "gerador_entrada_q2(5, 3, 8)\n",
        "!./Questao2 < in.txt"
      ],
      "metadata": {
        "colab": {
          "base_uri": "https://localhost:8080/"
        },
        "id": "tj3QmcmwltjE",
        "outputId": "d420e058-bd6f-47a1-8431-a436de7333a8"
      },
      "execution_count": 433,
      "outputs": [
        {
          "output_type": "stream",
          "name": "stdout",
          "text": [
            "261116 =  3*82641+13193\n",
            "268675 =  3*78818+32221\n",
            "132853 =  3*23743+61624\n",
            "127592 =  3*18634+71690\n",
            "211356 =  3*40586+89598\n"
          ]
        }
      ]
    },
    {
      "cell_type": "markdown",
      "source": [
        "#### 2. OpenMP vs GPU"
      ],
      "metadata": {
        "id": "ZFEmNZDZmkju"
      }
    },
    {
      "cell_type": "markdown",
      "source": [
        "#### Código e geração de executável (GPU)"
      ],
      "metadata": {
        "id": "9FQdbTTtx_Ue"
      }
    },
    {
      "cell_type": "code",
      "source": [
        " %%writefile Questao2-GPU.cu\n",
        " \n",
        " #include <thrust/host_vector.h>\n",
        " #include <thrust/device_vector.h>\n",
        " #include <thrust/generate.h>\n",
        " #include <thrust/functional.h>\n",
        " #include <thrust/copy.h>\n",
        " #include <cstdlib>\n",
        " #include <algorithm>\n",
        " #include <iostream>\n",
        " #include <iomanip>\n",
        "\n",
        " using namespace  std;\n",
        "\n",
        "struct saxpy\n",
        "{\n",
        "    int a;    \n",
        "    saxpy(int a_) : a(a_) {};\n",
        "    __host__ __device__\n",
        "    double operator()(const int& x, const int& y) {\n",
        "           return a * x + y;\n",
        "    }\n",
        "};\n",
        "\n",
        "int main() {\n",
        "     int n, m;\n",
        "     cin >> n >> m;\n",
        "     \n",
        "\n",
        "     //gerar numeros aleatorios\n",
        "     thrust::host_vector<int> a(n);\n",
        "     thrust::host_vector<int> b(n);\n",
        "     thrust::host_vector<int> c(n);\n",
        "     thrust::generate(a.begin(), a.end(), rand);\n",
        "     thrust::generate(b.begin(), b.end(), rand);\n",
        "\n",
        "     //transferimos para a GPU\n",
        "     thrust::device_vector<int> d_a = a;\n",
        "     thrust::device_vector<int> d_b = b;\n",
        "\n",
        "     //transformacao\n",
        "\n",
        "     thrust::transform(d_a.begin(), d_a.end(),\n",
        "                       d_b.begin(), d_b.end(),\n",
        "                       saxpy(m));\n",
        "\n",
        "     thrust::copy(d_b.begin(), d_b.end(),\n",
        "     c.begin()); \n",
        "\n",
        "     for (int i = 0; i < n; i++ )\n",
        "         cout << setw(6) << c[i] << \" = \" \n",
        "          << setw(2) << m\n",
        "          << \"*\" << setw(5) << a[i]\n",
        "          << \"+\" << setw(5) << b[i]\n",
        "          << endl;\n",
        "\n",
        "}\n"
      ],
      "metadata": {
        "colab": {
          "base_uri": "https://localhost:8080/"
        },
        "id": "QQUw-Xs1owAk",
        "outputId": "c8437d25-6096-4401-8688-3052907f3776"
      },
      "execution_count": 434,
      "outputs": [
        {
          "output_type": "stream",
          "name": "stdout",
          "text": [
            "Writing Questao2-GPU.cu\n"
          ]
        }
      ]
    },
    {
      "cell_type": "code",
      "source": [
        "!nvcc -Wno-deprecated-gpu-targets -arch=sm_37 -std=c++14 -o Questao2-GPU Questao2-GPU.cu"
      ],
      "metadata": {
        "id": "7lgDXFVqo49M"
      },
      "execution_count": 435,
      "outputs": []
    },
    {
      "cell_type": "markdown",
      "source": [
        "#### Exemplo de input e output"
      ],
      "metadata": {
        "id": "EfYA7Ofmxzfd"
      }
    },
    {
      "cell_type": "code",
      "source": [
        "gerador_entrada(5, 3)\n",
        "!./Questao2-GPU < in.txt"
      ],
      "metadata": {
        "colab": {
          "base_uri": "https://localhost:8080/"
        },
        "id": "mezddjlApChb",
        "outputId": "a7ca4343-7730-48d3-fe2b-bda33008377a"
      },
      "execution_count": 436,
      "outputs": [
        {
          "output_type": "stream",
          "name": "stdout",
          "text": [
            "424238335 =  3*1804289383+424238335\n",
            "719885386 =  3*846930886+719885386\n",
            "1649760492 =  3*1681692777+1649760492\n",
            "596516649 =  3*1714636915+596516649\n",
            "1189641421 =  3*1957747793+1189641421\n"
          ]
        }
      ]
    },
    {
      "cell_type": "code",
      "source": [
        "tempos_OP = []\n",
        "tamanhos_OP = []\n",
        "\n",
        "tempos_GPU = []\n",
        "tamanhos_GPU = []\n",
        "\n",
        "total = 50\n",
        "n = 5\n",
        "m = 3 # Valor arbitrário\n",
        "for i in range(0, total):\n",
        "  gerador_entrada_q2(n, m, 8)\n",
        "  tempos_OP.append(roda_com_entrada('./Questao2', './in.txt')[1])\n",
        "  tamanhos_OP.append(n)\n",
        "\n",
        "  gerador_entrada(n, m)\n",
        "  tempos_GPU.append(roda_com_entrada('./Questao2-GPU', './in.txt')[1])\n",
        "  tamanhos_GPU.append(n)\n",
        "\n",
        "  n += 5000"
      ],
      "metadata": {
        "id": "qKGGHZ6dofjH"
      },
      "execution_count": 437,
      "outputs": []
    },
    {
      "cell_type": "code",
      "source": [
        "plt.figure(figsize=(7.5, 5))\n",
        "plt.plot(tamanhos_OP, tempos_OP, label='OpenMP', alpha = 0.5)\n",
        "plt.plot(tamanhos_GPU, tempos_GPU, label='GPU', alpha = 0.5)\n",
        "plt.title('OpenMP vs GPU')\n",
        "plt.xlabel('n')\n",
        "plt.ylabel('Tempos (s)')\n",
        "plt.grid('on')\n",
        "plt.legend()\n",
        "plt.show()"
      ],
      "metadata": {
        "colab": {
          "base_uri": "https://localhost:8080/",
          "height": 350
        },
        "id": "qjojLGTGq-Kt",
        "outputId": "14d7193c-2541-4197-936a-5a227e5475d5"
      },
      "execution_count": 438,
      "outputs": [
        {
          "output_type": "display_data",
          "data": {
            "text/plain": [
              "<Figure size 540x360 with 1 Axes>"
            ],
            "image/png": "[encoded data removed]"
          },
          "metadata": {
            "needs_background": "light"
          }
        }
      ]
    },
    {
      "cell_type": "markdown",
      "source": [
        "Como pode-se observar no gráfico, apesar do OpenMP conseguir se sobressair para valores de `n`  pequenos, a GPU tem um desempenho em geral muito superior conforme a entrada aumenta. Para investigar o porquê disso ocorrer, é possível realizar mais uma análise aumentando o número de threads que o código OpenMP pode utilizar para realizar o cálculo do Saxpy:"
      ],
      "metadata": {
        "id": "JP6BFLvZxxZ3"
      }
    },
    {
      "cell_type": "code",
      "source": [
        "tempos_OP_8threads = []\n",
        "tamanhos_OP_8threads = []\n",
        "\n",
        "tempos_OP_14threads = []\n",
        "tamanhos_OP_14threads = []\n",
        "\n",
        "tempos_OP_20threads = []\n",
        "tamanhos_OP_20threads = []\n",
        "\n",
        "tempos_OP_26threads = []\n",
        "tamanhos_OP_26threads = []\n",
        "\n",
        "tempos_OP_32threads = []\n",
        "tamanhos_OP_32threads = []\n",
        "\n",
        "tempos_GPU = []\n",
        "tamanhos_GPU = []\n",
        "\n",
        "total = 50\n",
        "n = 5\n",
        "m = 3 # Valor arbitrário\n",
        "num_threads = 8\n",
        "for i in range(0, total):\n",
        "  gerador_entrada_q2(n, m, num_threads)\n",
        "  tempos_OP_8threads.append(roda_com_entrada('./Questao2', './in.txt')[1])\n",
        "  tamanhos_OP_8threads.append(n)\n",
        "\n",
        "  gerador_entrada_q2(n, m, num_threads + 6)\n",
        "  tempos_OP_14threads.append(roda_com_entrada('./Questao2', './in.txt')[1])\n",
        "  tamanhos_OP_14threads.append(n)\n",
        "\n",
        "  gerador_entrada_q2(n, m, num_threads + 12)\n",
        "  tempos_OP_20threads.append(roda_com_entrada('./Questao2', './in.txt')[1])\n",
        "  tamanhos_OP_20threads.append(n)\n",
        "\n",
        "  gerador_entrada_q2(n, m, num_threads + 18)\n",
        "  tempos_OP_26threads.append(roda_com_entrada('./Questao2', './in.txt')[1])\n",
        "  tamanhos_OP_26threads.append(n)\n",
        "\n",
        "  gerador_entrada_q2(n, m, num_threads + 24)\n",
        "  tempos_OP_32threads.append(roda_com_entrada('./Questao2', './in.txt')[1])\n",
        "  tamanhos_OP_32threads.append(n)\n",
        "\n",
        "  gerador_entrada(n, m)\n",
        "  tempos_GPU.append(roda_com_entrada('./Questao2-GPU', './in.txt')[1])\n",
        "  tamanhos_GPU.append(n)\n",
        "\n",
        "  n += 5000"
      ],
      "metadata": {
        "id": "I1tKBb0oznux"
      },
      "execution_count": 439,
      "outputs": []
    },
    {
      "cell_type": "code",
      "source": [
        "plt.figure(figsize=(7.5, 5))\n",
        "plt.plot(tamanhos_OP_8threads, tempos_OP_8threads, label='OpenMP 8 threads')\n",
        "plt.plot(tamanhos_OP_14threads, tempos_OP_14threads, label='OpenMP 14 threads')\n",
        "plt.plot(tamanhos_OP_20threads, tempos_OP_20threads, label='OpenMP 20 threads')\n",
        "plt.plot(tamanhos_OP_26threads, tempos_OP_26threads, label='OpenMP 26 threads')\n",
        "plt.plot(tamanhos_OP_32threads, tempos_OP_32threads, label='OpenMP 32 threads')\n",
        "plt.plot(tamanhos_GPU, tempos_GPU, label='GPU')\n",
        "plt.title('OpenMP vs GPU')\n",
        "plt.xlabel('n')\n",
        "plt.ylabel('Tempos (s)')\n",
        "plt.grid('on')\n",
        "plt.legend()\n",
        "plt.show()"
      ],
      "metadata": {
        "colab": {
          "base_uri": "https://localhost:8080/",
          "height": 350
        },
        "id": "jp0Ak_E50s4O",
        "outputId": "39ddcee9-f2d5-4cb7-e5ed-b4da8342d989"
      },
      "execution_count": 440,
      "outputs": [
        {
          "output_type": "display_data",
          "data": {
            "text/plain": [
              "<Figure size 540x360 with 1 Axes>"
            ],
            "image/png": "[encoded data removed]"
          },
          "metadata": {
            "needs_background": "light"
          }
        }
      ]
    },
    {
      "cell_type": "markdown",
      "source": [
        "O gráfico acima constata que de maneira geral, 8 threads parece ser um valor ideal para número máximo, visto que conforme esse número aumenta, pior o desempenho do código. Apesar de que inicialmente todas têm um desempenho similar, pode-se observar as disparidades conforme o tamanho da entrada aumenta. Além disso, similarmente à questão 1, pode-se observar um ponto de saturação em que o aumento do número de threads parece não fazer muito diferença no desempenho, provavelmente porque muitas delas ficam ociosas sendo que o código pode não necessitar todas elas. "
      ],
      "metadata": {
        "id": "TMEG0WZW1hQo"
      }
    },
    {
      "cell_type": "markdown",
      "source": [
        "#### Conclusão:\n",
        "\n",
        "Para entradas pequenas, os códigos OpenMP, com tamanhos variados de threads, todos apresentam desempenho superior à GPU. Isso pode ser explicado devido ao fenômeno de priorização de throughput por conta da GPU. Acessos à memória e a transferência de dados entre CPU e GPU são demorados, e como os códigos OpenMP utilizam apenas CPU, fazendo uso da arquitetura multicore do computador que roda o executável, faz sentido que eles apresentem um melhor desempenho; pois neles a latência é priorizada. No entanto, para entradas maiores, pode-se verificar que a GPU apresenta um desempenho vastamente superior. Seguindo a mesma linha de raciocínio desenvolvida anteriormente, isso se dá que porque a GPU é boa em executar muitas coisas ao mesmo tempo, não importando muito se cada uma dessas instruções é feita de maneira rápida individualmente. Por isso, ao ocupar a GPU ao máximo e pedir pra ela fazer a conta do SaxPy (que é simples), para entradas maiores ela vai se sobressair muito em relação aos códigos que utilizam OpenMP."
      ],
      "metadata": {
        "id": "8FKWIED83m0H"
      }
    },
    {
      "cell_type": "markdown",
      "source": [
        "**FEEDBACK QUESTÃO 2**: Não preencher este campo. Ele será preenchido pelo seu professor durante a correção. "
      ],
      "metadata": {
        "id": "lJUiljYps_cX"
      }
    },
    {
      "cell_type": "markdown",
      "source": [
        "**QUESTÃO 3.** Resolva a questão 3 no espaço de código abaixo... você pode duplicá-lo quantas vezes forem necessárias. "
      ],
      "metadata": {
        "id": "o6hQRlUntL1m"
      }
    },
    {
      "cell_type": "markdown",
      "source": [
        "#### Geração de código e executável"
      ],
      "metadata": {
        "id": "cDXXDQ7y58aG"
      }
    },
    {
      "cell_type": "code",
      "source": [
        " %%writefile Questao3.cu\n",
        "\n",
        "#include <random>\n",
        "#include <iostream>\n",
        "#include <vector>\n",
        "#include <thrust/random.h>\n",
        "#include <thrust/device_vector.h>\n",
        "#include <thrust/transform.h>\n",
        "#include <thrust/iterator/counting_iterator.h>\n",
        "using namespace std;\n",
        "\n",
        "struct is_one\n",
        "{\n",
        "  __host__ __device__\n",
        "  bool operator()(const int &x)\n",
        "  {\n",
        "    return x & 1;\n",
        "  }\n",
        "};\n",
        "\n",
        "struct square \n",
        "{\n",
        "    __device__ __host__\n",
        "    double operator()(const double &x) {\n",
        "        return x*x;\n",
        "    }\n",
        "};\n",
        "\n",
        "struct rng_gpu {\n",
        "    __device__ __host__\n",
        "    double operator() (const int &i) {\n",
        "        thrust::default_random_engine generator(i*10000000);\n",
        "        thrust::uniform_real_distribution<double> distribution(0.0, 1.0);\n",
        "        return distribution(generator);\n",
        "    }\n",
        "};\n",
        "\n",
        "int main () {\n",
        "\n",
        "    long N = 100000000L;\n",
        "    thrust::host_vector<double> dotsCPU(2*N);\n",
        "    thrust::device_vector<double> dots(dotsCPU);\n",
        "    \n",
        "    thrust::transform(\n",
        "        thrust::make_counting_iterator<int>(0),\n",
        "        thrust::make_counting_iterator<int>(2*N),\n",
        "        dots.begin(),\n",
        "        rng_gpu()\n",
        "    );\n",
        "\n",
        "    thrust::transform(\n",
        "        dots.begin(),\n",
        "        dots.end(),\n",
        "        dots.begin(),\n",
        "        square()\n",
        "    );\n",
        "\n",
        "    thrust::device_vector<double> squareSum(N);\n",
        "    thrust::transform(\n",
        "        dots.begin(),\n",
        "        dots.begin() + N/2,\n",
        "        dots.begin() + N/2 + 1,\n",
        "        squareSum.begin(),\n",
        "        thrust::plus<double>()  \n",
        "    );\n",
        "\n",
        "    thrust::constant_iterator<double> one(1.0);\n",
        "    thrust::device_vector<double> lessEqual(N);\n",
        "    thrust::transform(\n",
        "        squareSum.begin(),\n",
        "        squareSum.end(),\n",
        "        one,\n",
        "        lessEqual.begin(),\n",
        "        thrust::less_equal<double>()\n",
        "    );\n",
        "\n",
        "    \n",
        "    int result = thrust::count_if(\n",
        "        lessEqual.begin(),\n",
        "        lessEqual.end(),\n",
        "        is_one()\n",
        "    );\n",
        "\n",
        "    cout << 4.0 * result/N;\n",
        "\n",
        "    \n",
        "  \n",
        "  }"
      ],
      "metadata": {
        "id": "sIdU43kNtSie",
        "colab": {
          "base_uri": "https://localhost:8080/"
        },
        "outputId": "445e8530-c061-4076-f760-cea0ccbba5df"
      },
      "execution_count": 441,
      "outputs": [
        {
          "output_type": "stream",
          "name": "stdout",
          "text": [
            "Writing Questao3.cu\n"
          ]
        }
      ]
    },
    {
      "cell_type": "code",
      "source": [
        "!nvcc -Wno-deprecated-gpu-targets -arch=sm_37 -std=c++14 -o Questao3 Questao3.cu"
      ],
      "metadata": {
        "id": "utmXznmp53GJ"
      },
      "execution_count": 442,
      "outputs": []
    },
    {
      "cell_type": "code",
      "source": [
        "!./Questao3"
      ],
      "metadata": {
        "colab": {
          "base_uri": "https://localhost:8080/"
        },
        "id": "aYIz2fEE57m_",
        "outputId": "14964c44-fca0-46af-c695-6b0452a6bf65"
      },
      "execution_count": 443,
      "outputs": [
        {
          "output_type": "stream",
          "name": "stdout",
          "text": [
            "tcmalloc: large alloc 1600004096 bytes == 0x55bf5a8d6000 @  0x7f8c843f6887 0x55bf58287be0 0x55bf58280291 0x55bf5827faf5 0x55bf58274e0f 0x55bf5827470f 0x55bf5827359c 0x55bf58272c57 0x55bf5826ecc4 0x7f8c83425c87 0x55bf5826e91a\n",
            "3.63789"
          ]
        }
      ]
    },
    {
      "cell_type": "markdown",
      "source": [
        "OBS: Não consegui fazer funcionar com `transform_reduce`, então utilizei uma alternativa que é o `count_if`, e percebi grandes melhorias em desempenho do que se fizesse de outra forma (depois de gerar os vetores aleatórios) como a demonstrada abaixo, que demora muito para rodar para o valor de `N`   estabelecido no enunciado: \n",
        "\n",
        "```\n",
        " for (long i = 0; i < N; i++) {\n",
        "        double x, y;\n",
        "      \n",
        "        x = dots[i];\n",
        "        y = dots[2*i];\n",
        "        if (x*x + y*y <= 1) {\n",
        "            sum++;\n",
        "        }\n",
        "    }\n",
        "    \n",
        "\n",
        "    double pi = 4.0 * sum / N;\n",
        "    cout << pi << endl;\n",
        "    cout << sum << endl;\n",
        "```"
      ],
      "metadata": {
        "id": "92DuEWafLCiA"
      }
    },
    {
      "cell_type": "markdown",
      "source": [
        "**FEEDBACK QUESTÃO 3**: Não preencher este campo. Ele será preenchido pelo seu professor durante a correção. "
      ],
      "metadata": {
        "id": "2oFC1-d1tWNF"
      }
    },
    {
      "cell_type": "markdown",
      "source": [
        "**QUESTÃO 4.** Resolva a questão 4 no espaço de código abaixo... você pode duplicá-lo quantas vezes forem necessárias. "
      ],
      "metadata": {
        "id": "15XSalBetasI"
      }
    },
    {
      "cell_type": "markdown",
      "source": [
        "#### Função para gerar entradas de um int e duas strings"
      ],
      "metadata": {
        "id": "TrGbDdrFPP4i"
      }
    },
    {
      "cell_type": "code",
      "source": [
        "def programa(a, b, c):\n",
        "  f = open(f'./in.txt', 'w')\n",
        "  line = str(a) + '\\n' + b + '\\n' + c\n",
        "  f.writelines(line)\n",
        "  f.close()  "
      ],
      "metadata": {
        "id": "0_h2MXnfPPQC"
      },
      "execution_count": 444,
      "outputs": []
    },
    {
      "cell_type": "code",
      "source": [
        "%%writefile Questao4.cu\n",
        "\n",
        "#include <random>\n",
        "#include <iostream>\n",
        "#include <vector>\n",
        "#include <thrust/random.h>\n",
        "#include <thrust/device_vector.h>\n",
        "#include <thrust/transform.h>\n",
        "#include <thrust/iterator/counting_iterator.h>\n",
        "#include<cstring>\n",
        "#include <string.h>\n",
        "using namespace std;\n",
        "\n",
        "struct calculoScore {\n",
        "    thrust::device_ptr<char> subA;\n",
        "    thrust::device_ptr<char> subB;\n",
        "\n",
        "    calculoScore(thrust::device_ptr<char> subA_, thrust::device_ptr<char> subB_) :\n",
        "      subA(subA_),\n",
        "      subB(subB_) {};\n",
        "\n",
        "    __device__ __host__\n",
        "    int operator() (const int &i) {\n",
        "        int score = (subA[i] == subB[i] ? 2 : -1);\n",
        "        return score;\n",
        "    }\n",
        "};\n",
        "\n",
        "int main () {\n",
        "    int k;\n",
        "    string a, b;\n",
        "\n",
        "    cin >> k >> a >> b;\n",
        "\n",
        "    thrust::device_vector<char> seqA(a.begin(), a.end());\n",
        "    thrust::device_vector<char> seqB(b.begin(), b.end());\n",
        "    thrust::device_vector<int> result(3);\n",
        "\n",
        "\n",
        "    int num_iter = k / 3;\n",
        "\n",
        "    thrust::device_vector<int> scoresParesK(num_iter);\n",
        "\n",
        "    for(int i = 0; i < num_iter; i++) {\n",
        "        if(i == 0) {\n",
        "            thrust::transform(\n",
        "                thrust::make_counting_iterator<int>(0),\n",
        "                thrust::make_counting_iterator<int>(3),\n",
        "                result.begin(),\n",
        "                calculoScore(seqA.data(), seqB.data())\n",
        "            );\n",
        "        } else {\n",
        "            thrust::transform(\n",
        "                thrust::make_counting_iterator<int>(i*3),\n",
        "                thrust::make_counting_iterator<int>(i*3 + 3),\n",
        "                result.begin(),\n",
        "                calculoScore(seqA.data(), seqB.data())\n",
        "            );   \n",
        "        }\n",
        "\n",
        "        scoresParesK[i] = thrust::reduce(\n",
        "            result.begin(),\n",
        "            result.end(),\n",
        "            0.0f, \n",
        "            thrust::plus<int>()  \n",
        "        );\n",
        "    }\n",
        "\n",
        "    int maxScore = thrust::reduce(\n",
        "        scoresParesK.begin(),\n",
        "        scoresParesK.end(),\n",
        "        0.0f,\n",
        "        thrust::maximum<int>()\n",
        "    );\n",
        "\n",
        "    cout << maxScore << endl;\n",
        "\n",
        "    \n",
        "\n",
        "    return 0;\n",
        "}"
      ],
      "metadata": {
        "id": "f5sBNngFtfUG",
        "colab": {
          "base_uri": "https://localhost:8080/"
        },
        "outputId": "fc858748-1976-484c-9c6e-56fc413523ea"
      },
      "execution_count": 445,
      "outputs": [
        {
          "output_type": "stream",
          "name": "stdout",
          "text": [
            "Writing Questao4.cu\n"
          ]
        }
      ]
    },
    {
      "cell_type": "code",
      "source": [
        "!nvcc -Wno-deprecated-gpu-targets -arch=sm_37 -std=c++14 -o Questao4 Questao4.cu"
      ],
      "metadata": {
        "id": "Jh117lnYORbz"
      },
      "execution_count": 446,
      "outputs": []
    },
    {
      "cell_type": "code",
      "source": [
        "programa(6, \"ATCCGATCC\", \"ATCGGTCAA\")\n",
        "!./Questao4 < in.txt"
      ],
      "metadata": {
        "colab": {
          "base_uri": "https://localhost:8080/"
        },
        "id": "Au5-Fel6OTAx",
        "outputId": "4457bcd7-a994-4350-e507-a97bfd5482b8"
      },
      "execution_count": 447,
      "outputs": [
        {
          "output_type": "stream",
          "name": "stdout",
          "text": [
            "6\n"
          ]
        }
      ]
    },
    {
      "cell_type": "markdown",
      "source": [
        "**FEEDBACK QUESTÃO 4:** Não preencher este campo. Ele será preenchido pelo seu professor durante a correção."
      ],
      "metadata": {
        "id": "Mnpn0g_5tisu"
      }
    }
  ]
}