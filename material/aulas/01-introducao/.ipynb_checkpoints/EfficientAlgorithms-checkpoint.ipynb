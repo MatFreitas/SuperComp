{
 "cells": [
  {
   "cell_type": "code",
   "execution_count": 1,
   "metadata": {},
   "outputs": [],
   "source": [
    "import subprocess\n",
    "import time\n",
    "import os\n",
    "import sys\n",
    "import matplotlib.pyplot as plt"
   ]
  },
  {
   "cell_type": "code",
   "execution_count": 2,
   "metadata": {},
   "outputs": [],
   "source": [
    "def roda_com_entrada(executavel, arquivo_in):\n",
    "    with open(arquivo_in) as f:\n",
    "        start = time.perf_counter()\n",
    "        proc = subprocess.run([sys.executable, executavel], input=f.read(), text=True, capture_output=True)\n",
    "        end = time.perf_counter()\n",
    "\n",
    "        # print('Saída:', proc.stdout)\n",
    "        # print('Stderr:', proc.stderr)\n",
    "        print('Tempo total(s):', end - start)\n",
    "\n",
    "        return (proc.stdout, end - start)"
   ]
  },
  {
   "cell_type": "code",
   "execution_count": 3,
   "metadata": {},
   "outputs": [
    {
     "name": "stdout",
     "output_type": "stream",
     "text": [
      "Tempo total(s): 0.08176619999999701\n",
      "Tempo total(s): 0.06965040000000045\n",
      "Tempo total(s): 0.07096190000000036\n",
      "Tempo total(s): 0.07131129999999786\n",
      "Tempo total(s): 0.07062830000000275\n",
      "Tempo total(s): 0.07045360000000045\n",
      "Tempo total(s): 0.07523570000000035\n",
      "Tempo total(s): 0.06956220000000002\n",
      "Tempo total(s): 0.0682119999999955\n",
      "Tempo total(s): 0.07143310000000014\n"
     ]
    },
    {
     "data": {
      "image/png": "[encoded data removed]",
      "text/plain": [
       "<Figure size 432x288 with 1 Axes>"
      ]
     },
     "metadata": {
      "needs_background": "light"
     },
     "output_type": "display_data"
    }
   ],
   "source": [
    "tempos = []\n",
    "tamanhos = []\n",
    "for i in range(0, 10):\n",
    "    with open(f'./entradas-busca-local/in-{i}.txt') as f:\n",
    "        tamanhos.append(f.readline().strip())\n",
    "    tempos.append(roda_com_entrada('./busca-local-1', f'./entradas-busca-local/in-{i}.txt')[1])\n",
    "\n",
    "plt.plot(tempos, tamanhos)\n",
    "plt.title('Busca Local 1')\n",
    "plt.xlabel('Tamanhos')\n",
    "plt.xlabel('Tempos')\n",
    "plt.show()"
   ]
  },
  {
   "cell_type": "code",
   "execution_count": null,
   "metadata": {},
   "outputs": [],
   "source": []
  }
 ],
 "metadata": {
  "kernelspec": {
   "display_name": "Python 3",
   "language": "python",
   "name": "python3"
  },
  "language_info": {
   "codemirror_mode": {
    "name": "ipython",
    "version": 3
   },
   "file_extension": ".py",
   "mimetype": "text/x-python",
   "name": "python",
   "nbconvert_exporter": "python",
   "pygments_lexer": "ipython3",
   "version": "3.7.4"
  }
 },
 "nbformat": 4,
 "nbformat_minor": 2
}
