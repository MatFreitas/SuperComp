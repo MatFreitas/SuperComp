{
 "cells": [
  {
   "cell_type": "code",
   "execution_count": 1,
   "metadata": {},
   "outputs": [],
   "source": [
    "import subprocess\n",
    "import time\n",
    "import os\n",
    "import sys\n",
    "import matplotlib.pyplot as plt"
   ]
  },
  {
   "cell_type": "code",
   "execution_count": 2,
   "metadata": {},
   "outputs": [],
   "source": [
    "def roda_com_entrada(executavel, arquivo_in):\n",
    "    with open(arquivo_in) as f:\n",
    "        start = time.perf_counter()\n",
    "        proc = subprocess.run([sys.executable, executavel], input=f.read(), text=True, capture_output=True)\n",
    "        end = time.perf_counter()\n",
    "\n",
    "        # print('Saída:', proc.stdout)\n",
    "        # print('Stderr:', proc.stderr)\n",
    "        print('Tempo total(s):', end - start)\n",
    "\n",
    "        return (proc.stdout, end - start)"
   ]
  },
  {
   "cell_type": "code",
   "execution_count": null,
   "metadata": {},
   "outputs": [],
   "source": [
    "tempos_1 = []\n",
    "tamanhos_1 = []\n",
    "for i in range(0, 6):\n",
    "    with open(f'./in-{i}.txt') as f:\n",
    "        tamanhos_1.append(f.readline().strip())\n",
    "    tempos_1.append(roda_com_entrada('./busca-global-recursiva', f'./entradas-busca-local/in-{i}.txt')[1])\n",
    "\n",
    "print(tamanhos_1, tempos_1)\n",
    "plt.plot(tamanhos_1, tempos_1, color='green', linestyle='dashed')\n",
    "plt.title('Busca Local 1')\n",
    "plt.xlabel('Tamanhos')\n",
    "plt.ylabel('Tempos')\n",
    "plt.show()"
   ]
  }
 ],
 "metadata": {
  "kernelspec": {
   "display_name": "Python 3",
   "language": "python",
   "name": "python3"
  },
  "language_info": {
   "codemirror_mode": {
    "name": "ipython",
    "version": 3
   },
   "file_extension": ".py",
   "mimetype": "text/x-python",
   "name": "python",
   "nbconvert_exporter": "python",
   "pygments_lexer": "ipython3",
   "version": "3.7.4"
  }
 },
 "nbformat": 4,
 "nbformat_minor": 2
}
