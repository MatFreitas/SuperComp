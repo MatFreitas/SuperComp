{
  "cells": [
    {
      "cell_type": "markdown",
      "metadata": {
        "id": "NVXumuTE47oG"
      },
      "source": [
        "#### Aula 17"
      ]
    },
    {
      "cell_type": "markdown",
      "source": [
        "#### Exercício 1"
      ],
      "metadata": {
        "id": "yEwpMiFw6V-5"
      }
    },
    {
      "cell_type": "code",
      "execution_count": 4,
      "metadata": {
        "colab": {
          "base_uri": "https://localhost:8080/"
        },
        "id": "wyXrKsaq47oM",
        "outputId": "5ad3040a-e0e6-4440-c0bf-464c8b7c969d"
      },
      "outputs": [
        {
          "output_type": "stream",
          "name": "stdout",
          "text": [
            "Overwriting random_thrust.cu\n"
          ]
        }
      ],
      "source": [
        "%%writefile random_thrust.cu\n",
        "\n",
        "#include <thrust/random.h>\n",
        "#include <thrust/device_vector.h>\n",
        "#include <thrust/transform.h>\n",
        "#include <thrust/iterator/counting_iterator.h>\n",
        "#include <vector>\n",
        "\n",
        "int main() {\n",
        "  thrust::default_random_engine eng(10);\n",
        "  thrust::uniform_real_distribution<double> d(20, 30);\n",
        "\n",
        "  for (int i = 0; i < 10; i++) {\n",
        "      std::cout << d(eng) << \"\\n\";\n",
        "  }\n",
        "\n",
        "}"
      ]
    },
    {
      "cell_type": "code",
      "source": [
        "!nvcc -Wno-deprecated-gpu-targets -arch=sm_37 -std=c++14 -o random_thrust random_thrust.cu"
      ],
      "metadata": {
        "id": "OErDk_jZ5-wv"
      },
      "execution_count": 5,
      "outputs": []
    },
    {
      "cell_type": "code",
      "source": [
        "!./random_thrust < in1.txt"
      ],
      "metadata": {
        "colab": {
          "base_uri": "https://localhost:8080/"
        },
        "id": "Oppf-xYq6Dqy",
        "outputId": "3267162d-ffd3-43bc-bac1-c7b5ffd33bd6"
      },
      "execution_count": 6,
      "outputs": [
        {
          "output_type": "stream",
          "name": "stdout",
          "text": [
            "20.0022\n",
            "28.5032\n",
            "20.1353\n",
            "29.1611\n",
            "26.7956\n",
            "28.969\n",
            "21.4976\n",
            "29.8008\n",
            "26.2906\n",
            "24.3512\n"
          ]
        }
      ]
    },
    {
      "cell_type": "markdown",
      "source": [
        "#### Exercício 2"
      ],
      "metadata": {
        "id": "kNUuXmA-6ZBN"
      }
    },
    {
      "cell_type": "code",
      "source": [
        "%%writefile random_customizado.cu\n",
        "\n",
        "#include <thrust/random.h>\n",
        "#include <thrust/device_vector.h>\n",
        "#include <thrust/transform.h>\n",
        "#include <thrust/iterator/counting_iterator.h>\n",
        "#include <vector>\n",
        "using namespace std;\n",
        "\n",
        "struct rng_gpu {\n",
        "    __device__ __host__\n",
        "    double operator() (const int &i) {\n",
        "        thrust::default_random_engine eng(i*10000000);\n",
        "        thrust::uniform_real_distribution<double> d(25, 40);\n",
        "        return d(eng);\n",
        "    }\n",
        "};\n",
        "\n",
        "int main() {\n",
        "    //DENTRO DO PROGRAMA PRINCIPAL, UMA FORMA DE CHAMAR A SUA FUNCAO\n",
        "    size_t N = 10;\n",
        "    thrust::device_vector<double> d_random(N);\n",
        "\n",
        "    thrust::transform(\n",
        "        thrust::make_counting_iterator<int>(0),\n",
        "        thrust::make_counting_iterator<int>(N),\n",
        "        d_random.begin(),\n",
        "        rng_gpu()\n",
        "    );\n",
        "\n",
        "    for(int i = 0; i < N; i++) {\n",
        "        cout << d_random[i] << endl;\n",
        "    }\n",
        "\n",
        "}"
      ],
      "metadata": {
        "colab": {
          "base_uri": "https://localhost:8080/"
        },
        "id": "Kej06Tzm6HjI",
        "outputId": "6776c646-6bd5-4f61-8033-153473c32e6f"
      },
      "execution_count": 63,
      "outputs": [
        {
          "output_type": "stream",
          "name": "stdout",
          "text": [
            "Overwriting random_customizado.cu\n"
          ]
        }
      ]
    },
    {
      "cell_type": "code",
      "source": [
        "!nvcc -Wno-deprecated-gpu-targets -arch=sm_37 -std=c++14 -o random_customizado random_customizado.cu"
      ],
      "metadata": {
        "id": "uPGxzJsf8BDw"
      },
      "execution_count": 64,
      "outputs": []
    },
    {
      "cell_type": "code",
      "source": [
        "!./random_customizado"
      ],
      "metadata": {
        "colab": {
          "base_uri": "https://localhost:8080/"
        },
        "id": "JTDXQ3MG8EeE",
        "outputId": "f87f7429-c66c-424b-c0cd-6d72141bb33a"
      },
      "execution_count": 65,
      "outputs": [
        {
          "output_type": "stream",
          "name": "stdout",
          "text": [
            "25.0003\n",
            "36.6904\n",
            "33.3808\n",
            "30.0712\n",
            "26.7616\n",
            "38.452\n",
            "35.1424\n",
            "31.8328\n",
            "28.5232\n",
            "25.2136\n"
          ]
        }
      ]
    },
    {
      "cell_type": "markdown",
      "source": [
        "#### Exercício Monte Carlo GPU"
      ],
      "metadata": {
        "id": "q5V0VBLb-s6O"
      }
    },
    {
      "cell_type": "code",
      "source": [
        "%%writefile pi_montecarlo-GPU.cu\n",
        "\n",
        "#include <random>\n",
        "#include <iostream>\n",
        "#include <vector>\n",
        "#include <thrust/random.h>\n",
        "#include <thrust/device_vector.h>\n",
        "#include <thrust/transform.h>\n",
        "#include <thrust/iterator/counting_iterator.h>\n",
        "using namespace std;\n",
        "\n",
        "struct rng_gpu {\n",
        "    __device__ __host__\n",
        "    double operator() (const int &i) {\n",
        "        thrust::default_random_engine generator(i*10000000);\n",
        "        thrust::uniform_real_distribution<double> distribution(0.0, 1.0);\n",
        "        return distribution(generator);\n",
        "    }\n",
        "};\n",
        "\n",
        "int main () {\n",
        "\n",
        "    long N = 1000000L;\n",
        "    long sum = 0;\n",
        "    thrust::host_vector<double> dotsCPU(2*N);\n",
        "    thrust::device_vector<double> dots(dotsCPU);\n",
        "\n",
        "    thrust::transform(\n",
        "        thrust::make_counting_iterator<int>(0),\n",
        "        thrust::make_counting_iterator<int>(2*N),\n",
        "        dots.begin(),\n",
        "        rng_gpu()\n",
        "    );\n",
        "  \n",
        "   for (long i = 0; i < N; i++) {\n",
        "        double x, y;\n",
        "      \n",
        "        x = dots[i];\n",
        "        y = dots[2*i];\n",
        "        if (x*x + y*y <= 1) {\n",
        "            sum++;\n",
        "        }\n",
        "    }\n",
        "    \n",
        "\n",
        "    double pi = 4.0 * sum / N;\n",
        "    cout << pi << endl;\n",
        "    cout << sum << endl;\n",
        "  \n",
        "  }"
      ],
      "metadata": {
        "colab": {
          "base_uri": "https://localhost:8080/"
        },
        "id": "BbSu0rJ68WU0",
        "outputId": "1232d3db-0b35-4df4-d465-be73bcf7c7ca"
      },
      "execution_count": 87,
      "outputs": [
        {
          "output_type": "stream",
          "name": "stdout",
          "text": [
            "Overwriting pi_montecarlo-GPU.cu\n"
          ]
        }
      ]
    },
    {
      "cell_type": "code",
      "source": [
        "!nvcc -Wno-deprecated-gpu-targets -arch=sm_37 -std=c++14 -o pi_montecarlo-GPU pi_montecarlo-GPU.cu"
      ],
      "metadata": {
        "id": "O5pHSyaKAcwQ"
      },
      "execution_count": 88,
      "outputs": []
    },
    {
      "cell_type": "code",
      "source": [
        "!./pi_montecarlo-GPU"
      ],
      "metadata": {
        "colab": {
          "base_uri": "https://localhost:8080/"
        },
        "id": "KMGuMQihAhbw",
        "outputId": "1ee1a93f-7155-4236-db22-1ee1c6da613b"
      },
      "execution_count": 89,
      "outputs": [
        {
          "output_type": "stream",
          "name": "stdout",
          "text": [
            "2.98886\n",
            "747215\n"
          ]
        }
      ]
    },
    {
      "cell_type": "code",
      "source": [
        ""
      ],
      "metadata": {
        "id": "_Hg9ms5QA2rK"
      },
      "execution_count": null,
      "outputs": []
    }
  ],
  "metadata": {
    "language_info": {
      "name": "python"
    },
    "orig_nbformat": 4,
    "colab": {
      "name": "GPU_Aleatoridade.ipynb",
      "provenance": []
    },
    "accelerator": "GPU",
    "kernelspec": {
      "name": "python3",
      "display_name": "Python 3"
    }
  },
  "nbformat": 4,
  "nbformat_minor": 0
}