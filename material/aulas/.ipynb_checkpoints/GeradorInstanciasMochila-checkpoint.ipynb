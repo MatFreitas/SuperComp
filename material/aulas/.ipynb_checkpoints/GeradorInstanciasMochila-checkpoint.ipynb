{
 "cells": [
  {
   "cell_type": "code",
   "execution_count": 1,
   "metadata": {},
   "outputs": [],
   "source": [
    "import numpy as np"
   ]
  },
  {
   "cell_type": "code",
   "execution_count": 2,
   "metadata": {},
   "outputs": [],
   "source": [
    "W = 200\n",
    "j = 0\n",
    "\n",
    "for i in [10, 20, 30, 40, 50, 60, 70, 80, 90, 100]:\n",
    "    with open(f'in{j}.txt', 'w') as writer:\n",
    "        writer.write(f'{i} {W}\\n')\n",
    "        for _ in range(i):\n",
    "            peso = np.random.randint(1, 31)\n",
    "            valor = np.random.randint(1, 11)\n",
    "            writer.write(f'{peso} {valor}\\n')\n",
    "    j += 1"
   ]
  }
 ],
 "metadata": {
  "kernelspec": {
   "display_name": "Python 3",
   "language": "python",
   "name": "python3"
  },
  "language_info": {
   "codemirror_mode": {
    "name": "ipython",
    "version": 3
   },
   "file_extension": ".py",
   "mimetype": "text/x-python",
   "name": "python",
   "nbconvert_exporter": "python",
   "pygments_lexer": "ipython3",
   "version": "3.7.4"
  }
 },
 "nbformat": 4,
 "nbformat_minor": 2
}
