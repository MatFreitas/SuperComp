{
  "cells": [
    {
      "cell_type": "markdown",
      "metadata": {
        "id": "XbqvqwJqDYoP"
      },
      "source": [
        "## Aula 15"
      ]
    },
    {
      "cell_type": "markdown",
      "source": [
        "#### Exercício Ganho Diário"
      ],
      "metadata": {
        "id": "_IIcDsM9D1MP"
      }
    },
    {
      "cell_type": "code",
      "execution_count": 32,
      "metadata": {
        "colab": {
          "base_uri": "https://localhost:8080/"
        },
        "id": "Ukw9eXWEDYoS",
        "outputId": "3a2c16cd-7fed-4e24-b4c1-29238b6155c4"
      },
      "outputs": [
        {
          "output_type": "stream",
          "name": "stdout",
          "text": [
            "Overwriting ganho_diario.cu\n"
          ]
        }
      ],
      "source": [
        "%%writefile ganho_diario.cu\n",
        "\n",
        "#include<iostream>\n",
        "#include <thrust/device_vector.h>\n",
        "#include <thrust/host_vector.h>\n",
        "using namespace std;    \n",
        "\n",
        "#define NStocks 2518\n",
        "\n",
        "struct has_increased\n",
        "{\n",
        "  __host__ __device__\n",
        "  bool operator()(const int &x)\n",
        "  {\n",
        "    return x > 0;\n",
        "  }\n",
        "};\n",
        "\n",
        "int main() {\n",
        "    thrust::device_vector<double> stocks(NStocks);\n",
        "    thrust::device_vector<double> ganho_diario(NStocks);\n",
        "\n",
        "    for(int i = 0; i < NStocks; i++) {\n",
        "        double stock;\n",
        "        cin >> stock;\n",
        "\n",
        "        stocks[i] = stock;\n",
        "    }\n",
        "\n",
        "    thrust::transform(stocks.begin() + 1, stocks.end(), stocks.begin(), ganho_diario.begin(), thrust::minus<double>());\n",
        "    \n",
        "    cout << thrust::count_if(ganho_diario.begin(), ganho_diario.end(), has_increased()) << endl;\n",
        "\n",
        "    \n",
        "    return 0;\n",
        "}   "
      ]
    },
    {
      "cell_type": "code",
      "source": [
        "!nvcc -Wno-deprecated-gpu-targets -arch=sm_37 -std=c++14 -o ganho_diario ganho_diario.cu"
      ],
      "metadata": {
        "id": "2OY7sRbvFnAR"
      },
      "execution_count": 33,
      "outputs": []
    },
    {
      "cell_type": "code",
      "source": [
        "!./ganho_diario < stocks.txt"
      ],
      "metadata": {
        "colab": {
          "base_uri": "https://localhost:8080/"
        },
        "id": "cqrbMaBrFpVI",
        "outputId": "6c0d5900-cf0b-49b2-b2f5-d658d17effa3"
      },
      "execution_count": 34,
      "outputs": [
        {
          "output_type": "stream",
          "name": "stdout",
          "text": [
            "1126\n"
          ]
        }
      ]
    }
  ],
  "metadata": {
    "language_info": {
      "name": "python"
    },
    "orig_nbformat": 4,
    "colab": {
      "name": "GPU-Iteradores.ipynb",
      "provenance": []
    },
    "kernelspec": {
      "name": "python3",
      "display_name": "Python 3"
    },
    "accelerator": "GPU"
  },
  "nbformat": 4,
  "nbformat_minor": 0
}