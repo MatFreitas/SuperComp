{
  "cells": [
    {
      "cell_type": "markdown",
      "source": [
        "## Aula 14"
      ],
      "metadata": {
        "id": "jOW2bFMp4i1n"
      }
    },
    {
      "cell_type": "markdown",
      "source": [
        "#### Testando código genérico para compilar e executar com thrust "
      ],
      "metadata": {
        "id": "imUoAVuD4mtg"
      }
    },
    {
      "cell_type": "code",
      "execution_count": 1,
      "metadata": {
        "colab": {
          "base_uri": "https://localhost:8080/"
        },
        "id": "RAj880Abz7Vf",
        "outputId": "e25d1e6b-5cb1-43de-b9df-e9988bf55e1a"
      },
      "outputs": [
        {
          "output_type": "stream",
          "name": "stdout",
          "text": [
            "Writing main.cu\n"
          ]
        }
      ],
      "source": [
        "%%writefile main.cu\n",
        "#include <thrust/device_vector.h>\n",
        "#include <thrust/host_vector.h>\n",
        "#include <iostream>\n",
        "\n",
        "int main() {\n",
        "    thrust::host_vector<double> host(5, 0);\n",
        "    host[4] = 35;\n",
        "\n",
        "    /* na linha abaixo os dados são copiados\n",
        "       para GPU */\n",
        "    thrust::device_vector<double> dev(host);    \n",
        "    /* a linha abaixo só muda o vetor na CPU */\n",
        "    host[2] = 12;\n",
        "    \n",
        "    printf(\"Host vector: \");\n",
        "    for (auto i = host.begin(); i != host.end(); i++) {\n",
        "        std::cout << *i << \" \"; // este acesso é rápido -- CPU\n",
        "    }\n",
        "    printf(\"\\n\");\n",
        "    \n",
        "    printf(\"Device vector: \");\n",
        "    for (auto i = dev.begin(); i != dev.end(); i++) {\n",
        "        std::cout << *i << \" \"; // este acesso é lento! -- GPU\n",
        "    }\n",
        "    printf(\"\\n\");\n",
        "\n",
        "}"
      ]
    },
    {
      "cell_type": "code",
      "execution_count": 2,
      "metadata": {
        "id": "xBBeTTRpz7Vk"
      },
      "outputs": [],
      "source": [
        "!nvcc -Wno-deprecated-gpu-targets -arch=sm_37 -std=c++14 -o main main.cu"
      ]
    },
    {
      "cell_type": "code",
      "source": [
        "!./main"
      ],
      "metadata": {
        "colab": {
          "base_uri": "https://localhost:8080/"
        },
        "id": "gCffu6YK0snZ",
        "outputId": "cc76ea7c-78ea-4b81-b4f0-ab51d7b44e6b"
      },
      "execution_count": 3,
      "outputs": [
        {
          "output_type": "stream",
          "name": "stdout",
          "text": [
            "Host vector: 0 0 12 0 35 \n",
            "Device vector: 0 0 0 0 35 \n"
          ]
        }
      ]
    },
    {
      "cell_type": "markdown",
      "source": [
        "#### Exercício Google Stocks"
      ],
      "metadata": {
        "id": "LjgjUD974taK"
      }
    },
    {
      "cell_type": "code",
      "source": [
        "%%writefile google_stocks.cu\n",
        "\n",
        "#include<iostream>\n",
        "#include <thrust/device_vector.h>\n",
        "#include <thrust/host_vector.h>\n",
        "using namespace std;\n",
        "\n",
        "int main() {\n",
        "    thrust::host_vector<double> stocks;\n",
        "\n",
        "    for(int i = 0;i < 2518; i++) {\n",
        "        double stock;\n",
        "        cin >> stock;\n",
        "        stocks.push_back(stock);    \n",
        "    }\n",
        "\n",
        "    thrust::device_vector<double> stocks_GPU(stocks);\n",
        "\n",
        "    // Percorrendo vetor maneira simples\n",
        "    // for(int i = 0; i < int(stocks_GPU.size()); i++) {\n",
        "    //     cout << stocks_GPU[i] << endl;\n",
        "    // }\n",
        "\n",
        "    cout << \"Média nos últimos 10 anos: \" << thrust::reduce(stocks_GPU.begin(), stocks_GPU.end(), 0, thrust::plus<double>())/int(stocks_GPU.size()) << endl;\n",
        "    cout << \"Média no último ano: \" << thrust::reduce(stocks_GPU.end() - 365, stocks_GPU.end(), 0, thrust::plus<double>())/365 << endl;\n",
        "    return 0;\n",
        "}   "
      ],
      "metadata": {
        "colab": {
          "base_uri": "https://localhost:8080/"
        },
        "id": "_cepCKeS0zZn",
        "outputId": "0b4c6543-63f5-44f4-b4a2-16907716e43c"
      },
      "execution_count": 30,
      "outputs": [
        {
          "output_type": "stream",
          "name": "stdout",
          "text": [
            "Overwriting google_stocks.cu\n"
          ]
        }
      ]
    },
    {
      "cell_type": "code",
      "source": [
        "!nvcc -Wno-deprecated-gpu-targets -arch=sm_37 -std=c++14 -o google_stocks google_stocks.cu"
      ],
      "metadata": {
        "id": "uT3tvraw3F53"
      },
      "execution_count": 31,
      "outputs": []
    },
    {
      "cell_type": "code",
      "source": [
        "!./google_stocks < stocks.txt"
      ],
      "metadata": {
        "colab": {
          "base_uri": "https://localhost:8080/"
        },
        "id": "XOAkCtzF3K6E",
        "outputId": "428ee1d5-efc5-4227-d9a2-80570ebb033e"
      },
      "execution_count": 32,
      "outputs": [
        {
          "output_type": "stream",
          "name": "stdout",
          "text": [
            "Média nos últimos 10 anos: 493\n",
            "Média no último ano: 959\n"
          ]
        }
      ]
    },
    {
      "cell_type": "markdown",
      "source": [
        "#### Exercício Apple Microsoft Stocks"
      ],
      "metadata": {
        "id": "l12DPqhH_XXv"
      }
    },
    {
      "cell_type": "code",
      "source": [
        "%%writefile apple_microsoft_stocks.cu\n",
        "\n",
        "#include<iostream>\n",
        "#include <thrust/device_vector.h>\n",
        "#include <thrust/host_vector.h>\n",
        "using namespace std;\n",
        "\n",
        "#define NStocks 2518\n",
        "\n",
        "int main() {\n",
        "    thrust::device_vector<double> appl_stocks(NStocks);\n",
        "    thrust::device_vector<double> msft_stocks(NStocks);\n",
        "\n",
        "    for(int i = 0; i < NStocks; i++) {\n",
        "        double appl_stock, msft_stock;\n",
        "\n",
        "        cin >> appl_stock >> msft_stock;\n",
        "\n",
        "        appl_stocks[i] = appl_stock;\n",
        "        msft_stocks[i] = msft_stock;\n",
        "    }\n",
        "\n",
        "    thrust::device_vector<double> stocks_diff(NStocks);\n",
        "    thrust::transform(appl_stocks.begin(), appl_stocks.end(), msft_stocks.begin(), stocks_diff.begin(), thrust::minus<double>());\n",
        "\n",
        "    cout << thrust::reduce(stocks_diff.begin(), stocks_diff.end(), 0, thrust::plus<double>())/NStocks << endl;\n",
        "    return 0;\n",
        "}   "
      ],
      "metadata": {
        "colab": {
          "base_uri": "https://localhost:8080/"
        },
        "id": "Ogqo0W8c3WbB",
        "outputId": "583bd15e-8eb4-4e27-8089-80cd88e7396f"
      },
      "execution_count": 44,
      "outputs": [
        {
          "output_type": "stream",
          "name": "stdout",
          "text": [
            "Overwriting apple_microsoft_stocks.cu\n"
          ]
        }
      ]
    },
    {
      "cell_type": "code",
      "source": [
        "!nvcc -Wno-deprecated-gpu-targets -arch=sm_37 -std=c++14 -o apple_microsoft_stocks apple_microsoft_stocks.cu"
      ],
      "metadata": {
        "id": "bGEYVUNr9F-9"
      },
      "execution_count": 45,
      "outputs": []
    },
    {
      "cell_type": "code",
      "source": [
        "!./apple_microsoft_stocks < stocks2.csv"
      ],
      "metadata": {
        "colab": {
          "base_uri": "https://localhost:8080/"
        },
        "id": "sM3G4-Hb9OaP",
        "outputId": "0eca07b5-b4bc-435e-b7be-fda2e02af29b"
      },
      "execution_count": 46,
      "outputs": [
        {
          "output_type": "stream",
          "name": "stdout",
          "text": [
            "-39\n"
          ]
        }
      ]
    },
    {
      "cell_type": "code",
      "source": [
        ""
      ],
      "metadata": {
        "id": "JJRi6wVW9YFj"
      },
      "execution_count": null,
      "outputs": []
    }
  ],
  "metadata": {
    "interpreter": {
      "hash": "916dbcbb3f70747c44a77c7bcd40155683ae19c65e1c03b4aa3499c5328201f1"
    },
    "kernelspec": {
      "display_name": "Python 3.8.5 64-bit",
      "language": "python",
      "name": "python3"
    },
    "language_info": {
      "codemirror_mode": {
        "name": "ipython",
        "version": 3
      },
      "file_extension": ".py",
      "mimetype": "text/x-python",
      "name": "python",
      "nbconvert_exporter": "python",
      "pygments_lexer": "ipython3",
      "version": "3.8.5"
    },
    "orig_nbformat": 4,
    "colab": {
      "name": "IntroGPU.ipynb",
      "provenance": []
    },
    "accelerator": "GPU"
  },
  "nbformat": 4,
  "nbformat_minor": 0
}