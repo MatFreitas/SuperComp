{
  "cells": [
    {
      "cell_type": "markdown",
      "metadata": {
        "id": "jwu5ioXzMP3o"
      },
      "source": [
        "## Aula 16"
      ]
    },
    {
      "cell_type": "markdown",
      "source": [
        "#### Exercício Functor"
      ],
      "metadata": {
        "id": "tK32Ud5zUsFE"
      }
    },
    {
      "cell_type": "code",
      "source": [
        "%%writefile vector_magnitude.cu\n",
        "\n",
        "#include <iostream>\n",
        "#include <iomanip>\n",
        "#include <cstdlib>\n",
        "#include <chrono>\n",
        "#include <cstdlib>\n",
        "#include <algorithm>\n",
        "#include <thrust/device_vector.h>\n",
        "#include <thrust/host_vector.h>\n",
        "#include <cmath>\n",
        "#include <math.h>       \n",
        "#include <random>\n",
        "using namespace std::chrono;\n",
        "\n",
        "void reportTime(const char* msg, steady_clock::duration span) {\n",
        "    auto ms = duration_cast<milliseconds>(span);\n",
        "    std::cout << msg << \" - levou - \" <<\n",
        "    ms.count() << \" milisegundos\" << std::endl;\n",
        "}\n",
        "\n",
        "// CRIE UMA FUNCTOR PARA CALCULAR A SQUARE\n",
        "struct square \n",
        "{\n",
        "    __host__ __device__\n",
        "    float operator()(const float& x) {\n",
        "        return x*x;\n",
        "    }\n",
        "};\n",
        "\n",
        "\n",
        "// IMPLEMENTE O CALCULO DA MAGNITUDE COM THRUST\n",
        "float magnitude(thrust::device_vector<float>& _vec) {\n",
        "    float result;\n",
        "\n",
        "    // ... add Thrust calls\n",
        "    // AQUI VAO AS CHAMADAS THRUST \n",
        "    thrust::transform(_vec.begin(), _vec.end(), _vec.begin(), square());\n",
        "    result = sqrt(thrust::reduce(_vec.begin(), _vec.end(), 0, thrust::plus<float>()));\n",
        "\n",
        "    return result;\n",
        "}\n",
        "\n",
        "int main(int argc, char** argv) {\n",
        "    if (argc != 2) {\n",
        "        std::cerr << argv[0] << \": numero invalido de argumentos\\n\"; \n",
        "        std::cerr << \"uso: \" << argv[0] << \"  tamanho do vetor\\n\"; \n",
        "        return 1;\n",
        "    }\n",
        "    int n = std::atoi(argv[1]); //numero de elementos\n",
        "    steady_clock::time_point ts, te;\n",
        "\n",
        "    // Faça um  vector em thrust \n",
        "    thrust::device_vector<float> v_d(n);\n",
        "\n",
        "    // inicilize o  vector\n",
        "    ts = steady_clock::now();\n",
        "\n",
        "\n",
        "    std::generate(v_d.begin(), v_d.end(), rand);\n",
        "\n",
        "\n",
        "    te = steady_clock::now();\n",
        "    reportTime(\"Inicializacao\", te - ts);\n",
        "\n",
        "    // Calcule a magnitude do vetor\n",
        "    ts = steady_clock::now();\n",
        "    float len = magnitude(v_d);\n",
        "    te = steady_clock::now();\n",
        "    reportTime(\"Tempo para calculo\", te - ts);\n",
        "\n",
        "\n",
        "    std::cout << std::fixed << std::setprecision(4);\n",
        "    std::cout << \"Magnitude : \" << len << std::endl;\n",
        "}\n"
      ],
      "metadata": {
        "colab": {
          "base_uri": "https://localhost:8080/"
        },
        "id": "k39fNtoiMfIx",
        "outputId": "90324291-adfe-4763-cc0e-2c3c5d63bb02"
      },
      "execution_count": 36,
      "outputs": [
        {
          "output_type": "stream",
          "name": "stdout",
          "text": [
            "Overwriting vector_magnitude.cu\n"
          ]
        }
      ]
    },
    {
      "cell_type": "code",
      "source": [
        "!nvcc -Wno-deprecated-gpu-targets -arch=sm_37 -std=c++14 -o vector_magnitude vector_magnitude.cu"
      ],
      "metadata": {
        "id": "pS2uFwfPP6tq"
      },
      "execution_count": 37,
      "outputs": []
    },
    {
      "cell_type": "code",
      "source": [
        "!./vector_magnitude 5"
      ],
      "metadata": {
        "colab": {
          "base_uri": "https://localhost:8080/"
        },
        "id": "Um4Rj4yrQCA-",
        "outputId": "997b67ac-0b7a-4c6c-f671-d7a6840fe3e2"
      },
      "execution_count": 38,
      "outputs": [
        {
          "output_type": "stream",
          "name": "stdout",
          "text": [
            "Inicializacao - levou - 0 milisegundos\n",
            "Tempo para calculo - levou - 0 milisegundos\n",
            "Magnitude : 46340.9492\n"
          ]
        }
      ]
    }
  ],
  "metadata": {
    "language_info": {
      "name": "python"
    },
    "orig_nbformat": 4,
    "colab": {
      "name": "GPU_customizacao.ipynb",
      "provenance": [],
      "collapsed_sections": []
    },
    "kernelspec": {
      "name": "python3",
      "display_name": "Python 3"
    },
    "accelerator": "GPU"
  },
  "nbformat": 4,
  "nbformat_minor": 0
}